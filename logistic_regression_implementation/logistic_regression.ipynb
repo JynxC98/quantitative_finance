{
 "cells": [
  {
   "cell_type": "markdown",
   "id": "2fea8ac8-2266-4d74-b631-15692e0ee0da",
   "metadata": {},
   "source": [
    "### Calculating gradients\n",
    "\\begin{align}\n",
    "J(\\theta) = -\\frac{1}{m} \\sum_{i=1}^{m} \\left( y^{(i)} \\log(h_{\\theta}(x^{(i)})) + (1 - y^{(i)}) \\log(1 - h_{\\theta}(x^{(i)})) \\right)\n",
    "\\end{align}\n",
    "\\begin{align}\n",
    "\\frac{\\partial J(\\theta)}{\\partial \\theta_j} = \\frac{1}{m} \\sum_{i=1}^{m} \\left( h_{\\theta}(x^{(i)}) - y^{(i)} \\right) x_j^{(i)}\n",
    "\\end{align}\n",
    "\n",
    "Here, $m$ is the number of training examples, $\\theta$ represents the model parameters (weights), $x(i)$ represents the features of the $i^{th}$ training example, $y(i)$ represents the corresponding label, and $h_{\\theta}(x^{i}) $ represents the predicted probability that $x(i)$ belongs to the positive class."
   ]
  },
  {
   "cell_type": "code",
   "execution_count": 1,
   "id": "75647a00-e97f-4cff-9698-57178aa785f7",
   "metadata": {},
   "outputs": [],
   "source": [
    "import numpy as np\n",
    "\n",
    "def sigmoid(z):\n",
    "    \"\"\"\n",
    "    Calculates the sigmoid of a particular vector.\n",
    "    \n",
    "    Sigmoid is calculated by:\n",
    "    f(x) = 1 / (1 + e^(-x))\n",
    "    \n",
    "    Returns\n",
    "    -------\n",
    "        sigmoid(x)\n",
    "    \"\"\"\n",
    "    return 1 / (1 + np.exp(-z))\n",
    "\n",
    "def propagate(weights, bias, X_train, y_train):\n",
    "    \"\"\"\n",
    "    Calculates the gradients and cost for the `LogisticRegression` model.\n",
    "    Args:\n",
    "        - weights (numpy array): Model weights of shape (n,).\n",
    "        - bias (float): Model bias.\n",
    "        - X_train (numpy array): Training features of shape (m, n).\n",
    "        - y_train (numpy array): Training labels of shape (m,).\n",
    "\n",
    "    Returns:\n",
    "    - gradients (dictionary): Gradients for weights and bias.\n",
    "    - cost (numpy array): Cost associated with the model.\n",
    "    \"\"\"\n",
    "    num_samples = X_train.shape[0]\n",
    "    z = np.dot(X_train, weights) + bias\n",
    "    probability_vector = sigmoid(z)\n",
    "    cost = (1 / num_samples) * np.sum((-np.log(probability_vector) * y_train) + (-np.log(1 - probability_vector) * (1 - y_train)))\n",
    "    \n",
    "    dW = np.dot(X_train.T, (probability_vector - y_train)) / num_samples\n",
    "    dB = np.sum(probability_vector - y_train) / num_samples\n",
    "    \n",
    "    gradients = {\"dW\": dW, \"dB\": dB}\n",
    "    return gradients, cost\n",
    "    \n",
    "\n",
    "class LogisticRegression:\n",
    "    \"\"\"\n",
    "    Logistic Regression model for binary classification.\n",
    "\n",
    "    Attributes:\n",
    "    - X_train (numpy array): Training features of shape (m, n), where m is the number of samples and n is the number of features.\n",
    "    - y_train (numpy array): Training labels of shape (m,).\n",
    "    - weights_ (numpy array): Model weights of shape (n,).\n",
    "    - bias_ (float): Model bias.\n",
    "    - cost_ (list): List to store the cost during training.\n",
    "\n",
    "    Methods:\n",
    "    - fit(): Fit the logistic regression model to the training data.\n",
    "    - predict(): Predict class labels for input data.\n",
    "    \"\"\"\n",
    "\n",
    "    def __init__(self, X_train, y_train, learning_rate=0.01):\n",
    "        \"\"\"\n",
    "        Initialise logistic regression model with training data.\n",
    "\n",
    "        Args:\n",
    "        - X_train (numpy array): Training features of shape (m, n).\n",
    "        - y_train (numpy array): Training labels of shape (m,).\n",
    "        \"\"\"\n",
    "        self.X_train_ = X_train\n",
    "        self.y_train_ = y_train\n",
    "        self.weights_ = np.zeros(X_train.shape[1])\n",
    "        self.bias_ = 0\n",
    "        self.cost_ = []\n",
    "\n",
    "    def fit(self, learning_rate=0.01, num_iterations=100):\n",
    "        \"\"\"\n",
    "        Fit the logistic regression model to the training data.\n",
    "\n",
    "        Args:\n",
    "        - learning_rate (float): Learning rate for gradient descent.\n",
    "        - num_iterations (int): Number of iterations for gradient descent.\n",
    "        \"\"\"\n",
    "        for _ in range(num_iterations):\n",
    "            gradients, cost = propagate(self.weights_, self.bias_, self.X_train_, self.y_train_)\n",
    "            dW = gradients[\"dW\"]\n",
    "            dB = gradients[\"dB\"]\n",
    "            \n",
    "            self.weights_ -= learning_rate * dW\n",
    "            self.bias_ -= learning_rate * dB\n",
    "            \n",
    "            self.cost_.append(cost)\n",
    "\n",
    "    def predict(self, X, threshold=0.5):\n",
    "        \"\"\"\n",
    "        Predict class labels for input data.\n",
    "\n",
    "        Args:\n",
    "        - X (numpy array): Input features of shape (m, n).\n",
    "\n",
    "        Returns:\n",
    "        - predictions (numpy array): Predicted class labels of shape (m,).\n",
    "        \"\"\"\n",
    "        z = np.dot(X, self.weights_) + self.bias_\n",
    "        probabilities = sigmoid(z)\n",
    "        predictions = (probabilities > threshold).astype(int)\n",
    "        return predictions\n"
   ]
  },
  {
   "cell_type": "markdown",
   "id": "8f249f7e-b937-4fe4-9a94-d5b69f39aaf5",
   "metadata": {},
   "source": [
    "#### Now we test the above function to make sure it works."
   ]
  },
  {
   "cell_type": "code",
   "execution_count": 2,
   "id": "14078c4e-c247-4882-a16f-2560a46f7f6b",
   "metadata": {},
   "outputs": [],
   "source": [
    "from sklearn.datasets import make_classification\n",
    "from sklearn.model_selection import train_test_split\n",
    "from sklearn.metrics import classification_report"
   ]
  },
  {
   "cell_type": "code",
   "execution_count": 3,
   "id": "f56d9818-f93a-4c82-8fdf-4fa7b227ba38",
   "metadata": {},
   "outputs": [],
   "source": [
    "X, y = make_classification(n_samples=1000, n_features=20, n_classes=2, random_state=42)"
   ]
  },
  {
   "cell_type": "code",
   "execution_count": 4,
   "id": "814ed606-7ce8-4671-bf42-1663c037545f",
   "metadata": {},
   "outputs": [],
   "source": [
    "X_train, X_test, y_train, y_test = train_test_split(X, y, test_size=0.5, random_state=33)"
   ]
  },
  {
   "cell_type": "code",
   "execution_count": 5,
   "id": "9ab55845-5f17-43e9-9b08-fbda77a55702",
   "metadata": {},
   "outputs": [],
   "source": [
    "model = LogisticRegression(X_train, y_train)"
   ]
  },
  {
   "cell_type": "code",
   "execution_count": 6,
   "id": "4a42b22c-5dfc-4f11-b105-f46c9e8a4aaf",
   "metadata": {},
   "outputs": [],
   "source": [
    "model.fit()"
   ]
  },
  {
   "cell_type": "code",
   "execution_count": 7,
   "id": "13767b7d-a323-44cc-af97-b124bceb99b7",
   "metadata": {},
   "outputs": [],
   "source": [
    "y_pred = model.predict(X_test)"
   ]
  },
  {
   "cell_type": "code",
   "execution_count": 8,
   "id": "0095dbfc-eac6-47ec-934a-e81d8bbab2f4",
   "metadata": {},
   "outputs": [
    {
     "name": "stdout",
     "output_type": "stream",
     "text": [
      "              precision    recall  f1-score   support\n",
      "\n",
      "           0       0.83      0.93      0.88       252\n",
      "           1       0.92      0.81      0.86       248\n",
      "\n",
      "    accuracy                           0.87       500\n",
      "   macro avg       0.88      0.87      0.87       500\n",
      "weighted avg       0.87      0.87      0.87       500\n",
      "\n"
     ]
    }
   ],
   "source": [
    "print(classification_report(y_test, y_pred))"
   ]
  },
  {
   "cell_type": "code",
   "execution_count": 9,
   "id": "771affa8-5aac-47f3-b626-6305fb7b0ef5",
   "metadata": {},
   "outputs": [],
   "source": [
    "# Now comparing with sklearn's implementation\n",
    "\n",
    "from sklearn.linear_model import LogisticRegression"
   ]
  },
  {
   "cell_type": "code",
   "execution_count": 10,
   "id": "e7a7eb36-190d-4155-a4be-0e459d1a92c8",
   "metadata": {},
   "outputs": [
    {
     "data": {
      "text/html": [
       "<style>#sk-container-id-1 {color: black;}#sk-container-id-1 pre{padding: 0;}#sk-container-id-1 div.sk-toggleable {background-color: white;}#sk-container-id-1 label.sk-toggleable__label {cursor: pointer;display: block;width: 100%;margin-bottom: 0;padding: 0.3em;box-sizing: border-box;text-align: center;}#sk-container-id-1 label.sk-toggleable__label-arrow:before {content: \"▸\";float: left;margin-right: 0.25em;color: #696969;}#sk-container-id-1 label.sk-toggleable__label-arrow:hover:before {color: black;}#sk-container-id-1 div.sk-estimator:hover label.sk-toggleable__label-arrow:before {color: black;}#sk-container-id-1 div.sk-toggleable__content {max-height: 0;max-width: 0;overflow: hidden;text-align: left;background-color: #f0f8ff;}#sk-container-id-1 div.sk-toggleable__content pre {margin: 0.2em;color: black;border-radius: 0.25em;background-color: #f0f8ff;}#sk-container-id-1 input.sk-toggleable__control:checked~div.sk-toggleable__content {max-height: 200px;max-width: 100%;overflow: auto;}#sk-container-id-1 input.sk-toggleable__control:checked~label.sk-toggleable__label-arrow:before {content: \"▾\";}#sk-container-id-1 div.sk-estimator input.sk-toggleable__control:checked~label.sk-toggleable__label {background-color: #d4ebff;}#sk-container-id-1 div.sk-label input.sk-toggleable__control:checked~label.sk-toggleable__label {background-color: #d4ebff;}#sk-container-id-1 input.sk-hidden--visually {border: 0;clip: rect(1px 1px 1px 1px);clip: rect(1px, 1px, 1px, 1px);height: 1px;margin: -1px;overflow: hidden;padding: 0;position: absolute;width: 1px;}#sk-container-id-1 div.sk-estimator {font-family: monospace;background-color: #f0f8ff;border: 1px dotted black;border-radius: 0.25em;box-sizing: border-box;margin-bottom: 0.5em;}#sk-container-id-1 div.sk-estimator:hover {background-color: #d4ebff;}#sk-container-id-1 div.sk-parallel-item::after {content: \"\";width: 100%;border-bottom: 1px solid gray;flex-grow: 1;}#sk-container-id-1 div.sk-label:hover label.sk-toggleable__label {background-color: #d4ebff;}#sk-container-id-1 div.sk-serial::before {content: \"\";position: absolute;border-left: 1px solid gray;box-sizing: border-box;top: 0;bottom: 0;left: 50%;z-index: 0;}#sk-container-id-1 div.sk-serial {display: flex;flex-direction: column;align-items: center;background-color: white;padding-right: 0.2em;padding-left: 0.2em;position: relative;}#sk-container-id-1 div.sk-item {position: relative;z-index: 1;}#sk-container-id-1 div.sk-parallel {display: flex;align-items: stretch;justify-content: center;background-color: white;position: relative;}#sk-container-id-1 div.sk-item::before, #sk-container-id-1 div.sk-parallel-item::before {content: \"\";position: absolute;border-left: 1px solid gray;box-sizing: border-box;top: 0;bottom: 0;left: 50%;z-index: -1;}#sk-container-id-1 div.sk-parallel-item {display: flex;flex-direction: column;z-index: 1;position: relative;background-color: white;}#sk-container-id-1 div.sk-parallel-item:first-child::after {align-self: flex-end;width: 50%;}#sk-container-id-1 div.sk-parallel-item:last-child::after {align-self: flex-start;width: 50%;}#sk-container-id-1 div.sk-parallel-item:only-child::after {width: 0;}#sk-container-id-1 div.sk-dashed-wrapped {border: 1px dashed gray;margin: 0 0.4em 0.5em 0.4em;box-sizing: border-box;padding-bottom: 0.4em;background-color: white;}#sk-container-id-1 div.sk-label label {font-family: monospace;font-weight: bold;display: inline-block;line-height: 1.2em;}#sk-container-id-1 div.sk-label-container {text-align: center;}#sk-container-id-1 div.sk-container {/* jupyter's `normalize.less` sets `[hidden] { display: none; }` but bootstrap.min.css set `[hidden] { display: none !important; }` so we also need the `!important` here to be able to override the default hidden behavior on the sphinx rendered scikit-learn.org. See: https://github.com/scikit-learn/scikit-learn/issues/21755 */display: inline-block !important;position: relative;}#sk-container-id-1 div.sk-text-repr-fallback {display: none;}</style><div id=\"sk-container-id-1\" class=\"sk-top-container\"><div class=\"sk-text-repr-fallback\"><pre>LogisticRegression()</pre><b>In a Jupyter environment, please rerun this cell to show the HTML representation or trust the notebook. <br />On GitHub, the HTML representation is unable to render, please try loading this page with nbviewer.org.</b></div><div class=\"sk-container\" hidden><div class=\"sk-item\"><div class=\"sk-estimator sk-toggleable\"><input class=\"sk-toggleable__control sk-hidden--visually\" id=\"sk-estimator-id-1\" type=\"checkbox\" checked><label for=\"sk-estimator-id-1\" class=\"sk-toggleable__label sk-toggleable__label-arrow\">LogisticRegression</label><div class=\"sk-toggleable__content\"><pre>LogisticRegression()</pre></div></div></div></div></div>"
      ],
      "text/plain": [
       "LogisticRegression()"
      ]
     },
     "execution_count": 10,
     "metadata": {},
     "output_type": "execute_result"
    }
   ],
   "source": [
    "log_reg = LogisticRegression()\n",
    "log_reg.fit(X_train, y_train)"
   ]
  },
  {
   "cell_type": "code",
   "execution_count": 11,
   "id": "4d64e7c8-9b55-4657-be79-6f1f536e1af6",
   "metadata": {},
   "outputs": [],
   "source": [
    "y_pred = log_reg.predict(X_test)"
   ]
  },
  {
   "cell_type": "code",
   "execution_count": 12,
   "id": "dc18f736-57e5-4c77-90cc-224e6307cf19",
   "metadata": {},
   "outputs": [
    {
     "name": "stdout",
     "output_type": "stream",
     "text": [
      "              precision    recall  f1-score   support\n",
      "\n",
      "           0       0.85      0.92      0.88       252\n",
      "           1       0.91      0.84      0.87       248\n",
      "\n",
      "    accuracy                           0.88       500\n",
      "   macro avg       0.88      0.88      0.88       500\n",
      "weighted avg       0.88      0.88      0.88       500\n",
      "\n"
     ]
    }
   ],
   "source": [
    "print(classification_report(y_test, y_pred))"
   ]
  },
  {
   "cell_type": "code",
   "execution_count": null,
   "id": "61b39b3e-8bfe-4f02-b8b6-82118b31ded2",
   "metadata": {},
   "outputs": [],
   "source": []
  }
 ],
 "metadata": {
  "kernelspec": {
   "display_name": "Python 3 (ipykernel)",
   "language": "python",
   "name": "python3"
  },
  "language_info": {
   "codemirror_mode": {
    "name": "ipython",
    "version": 3
   },
   "file_extension": ".py",
   "mimetype": "text/x-python",
   "name": "python",
   "nbconvert_exporter": "python",
   "pygments_lexer": "ipython3",
   "version": "3.8.16"
  }
 },
 "nbformat": 4,
 "nbformat_minor": 5
}

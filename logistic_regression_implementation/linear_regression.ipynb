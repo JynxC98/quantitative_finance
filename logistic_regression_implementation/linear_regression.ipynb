{
 "cells": [
  {
   "cell_type": "code",
   "execution_count": 1,
   "id": "8477bff6-3045-4b2c-814f-8a7ccfd4ad9a",
   "metadata": {},
   "outputs": [],
   "source": [
    "import numpy as np"
   ]
  },
  {
   "cell_type": "code",
   "execution_count": 2,
   "id": "ed629601-9a96-488b-93a3-f7ca8d885bbf",
   "metadata": {},
   "outputs": [],
   "source": [
    "def propagate(coef, intercept, X, y):\n",
    "    \"\"\"\n",
    "    Calculates the gradients and cost for the `LinearRegression` model.\n",
    "    Args:\n",
    "        - coef (numpy array): Model coefficients of shape (n,).\n",
    "        - intercept (float): Model intercept.\n",
    "        - X (numpy array): Training features of shape (m, n).\n",
    "        - y (numpy array): Training labels of shape (m,).\n",
    "\n",
    "    Returns:\n",
    "    - gradients (dictionary): Gradients for coefficients and intercept.\n",
    "    - cost (numpy array): Cost associated with the model.\n",
    "    \"\"\"\n",
    "    num_samples = X.shape[0]\n",
    "    y_hat = np.dot(X, coef.T) + intercept\n",
    "    cost = np.sum((y_hat - y) ** 2) / num_samples\n",
    "    dM = -np.dot((y - y_hat), X) / num_samples # Gradient of coefficients.\n",
    "    dC = -np.sum((y - y_hat)) / num_samples\n",
    "    \n",
    "    gradients ={\n",
    "        \"dM\": dM,\n",
    "        \"dC\": dC\n",
    "    }\n",
    "    \n",
    "    return cost, gradients"
   ]
  },
  {
   "cell_type": "code",
   "execution_count": 3,
   "id": "0c0437a6-6a11-42d8-ba3e-3cf573418fc2",
   "metadata": {},
   "outputs": [],
   "source": [
    "class LinearRegression:\n",
    "    \"\"\"\n",
    "    A simple linear regression model for fitting a straight line to data points.\n",
    "\n",
    "    Attributes:\n",
    "        coef_ (numpy.ndarray): Coefficients of the linear model.\n",
    "        intercept_ (float): Intercept of the linear model.\n",
    "\n",
    "    Methods:\n",
    "        fit(X, y): Fit the linear regression model to the training data.\n",
    "        predict(X): Predict output for new input data.\n",
    "        score(X, y): Calculate the coefficient of determination (R^2) of the prediction.\n",
    "\n",
    "    \"\"\"\n",
    "\n",
    "    def __init__(self):\n",
    "        \"\"\"\n",
    "        Initialize the LinearRegression object.\n",
    "        \"\"\"\n",
    "        self.coef_ = None\n",
    "        self.intercept_ = None\n",
    "        self.cost = []\n",
    "\n",
    "    def fit(self, X, y, num_iterations=1000, learning_rate=0.01):\n",
    "        \"\"\"\n",
    "        Fit the linear regression model to the training data.\n",
    "\n",
    "        Args:\n",
    "            X (numpy.ndarray): Input features of shape (n_samples, n_features).\n",
    "            y (numpy.ndarray): Target values of shape (n_samples,).\n",
    "\n",
    "        Returns:\n",
    "            LinearRegression: Self.\n",
    "\n",
    "        Raises:\n",
    "            ValueError: If the dimensions of X and y do not match.\n",
    "        \"\"\"\n",
    "        self.coef_ = np.zeros(X.shape[1])\n",
    "        self.intercept_ = 0\n",
    "        for _ in range(num_iterations):\n",
    "            cost, gradients = propagate(self.coef_, self.intercept_, X, y)\n",
    "            dM = gradients[\"dM\"]\n",
    "            dC = gradients[\"dC\"]\n",
    "            self.coef_ -= learning_rate * dM\n",
    "            self.intercept_ -= learning_rate * dC\n",
    "            self.cost.append(cost)\n",
    "\n",
    "    def predict(self, X):\n",
    "        \"\"\"\n",
    "        Predict output for new input data.\n",
    "\n",
    "        Args:\n",
    "            X (numpy.ndarray): Input features of shape (n_samples, n_features).\n",
    "\n",
    "        Returns:\n",
    "            numpy.ndarray: Predicted target values of shape (n_samples,).\n",
    "        \"\"\"\n",
    "        y_hat = np.dot(X, self.coef_) + self.intercept_\n",
    "        return y_hat\n",
    "\n"
   ]
  },
  {
   "cell_type": "code",
   "execution_count": 12,
   "id": "fd1006f1-8441-445c-b39f-9fad235ec22f",
   "metadata": {},
   "outputs": [],
   "source": [
    "from sklearn.datasets import make_regression\n",
    "from sklearn.model_selection import train_test_split\n",
    "from sklearn.metrics import r2_score"
   ]
  },
  {
   "cell_type": "code",
   "execution_count": 5,
   "id": "67c0ea50-135f-4f10-a785-f71207d51042",
   "metadata": {},
   "outputs": [],
   "source": [
    "import plotly.express as px"
   ]
  },
  {
   "cell_type": "code",
   "execution_count": 6,
   "id": "03c2bf2a-d25b-4b26-bd9d-cb02ca0fe2cc",
   "metadata": {},
   "outputs": [],
   "source": [
    "X, y = make_regression(n_samples=1000, n_features=5, noise=10, random_state=42)"
   ]
  },
  {
   "cell_type": "code",
   "execution_count": 7,
   "id": "d066b6ce-3117-44d9-b0a8-6d168bc3af06",
   "metadata": {},
   "outputs": [],
   "source": [
    "X_train, X_test, y_train, y_test = train_test_split(X, y, test_size=0.25, random_state=42)"
   ]
  },
  {
   "cell_type": "code",
   "execution_count": 8,
   "id": "6f204fd4-2852-4ed4-9a63-1298bddb42e7",
   "metadata": {},
   "outputs": [],
   "source": [
    "model = LinearRegression()"
   ]
  },
  {
   "cell_type": "code",
   "execution_count": 9,
   "id": "32701983-2570-442c-b146-24f547cdb746",
   "metadata": {},
   "outputs": [],
   "source": [
    "model.fit(X_train, y_train)"
   ]
  },
  {
   "cell_type": "code",
   "execution_count": 10,
   "id": "3b764bf5-3c4a-4308-92cf-d595136e462e",
   "metadata": {},
   "outputs": [],
   "source": [
    "y_pred = model.predict(X_test)"
   ]
  },
  {
   "cell_type": "code",
   "execution_count": 13,
   "id": "f48faf0a-2034-4552-b950-47d4784a0768",
   "metadata": {},
   "outputs": [
    {
     "data": {
      "text/plain": [
       "0.9729749053149263"
      ]
     },
     "execution_count": 13,
     "metadata": {},
     "output_type": "execute_result"
    }
   ],
   "source": [
    "r2_score(y_test, y_pred)"
   ]
  },
  {
   "cell_type": "code",
   "execution_count": 14,
   "id": "1b618dc2-feb5-4202-aa6d-92532619a36b",
   "metadata": {},
   "outputs": [],
   "source": [
    "# Now comparing with `sklearn` implementation\n",
    "from sklearn.linear_model import LinearRegression\n",
    "lin_reg = LinearRegression()"
   ]
  },
  {
   "cell_type": "code",
   "execution_count": 15,
   "id": "d3be4980-0566-4630-b4a1-fc27e86e15cd",
   "metadata": {},
   "outputs": [],
   "source": [
    "lin_reg.fit(X_train, y_train)\n",
    "lin_reg.predict(X_test)\n",
    "y_pred = lin_reg.predict(X_test)"
   ]
  },
  {
   "cell_type": "code",
   "execution_count": null,
   "id": "3c29da56-88bf-401a-9b30-09eff3cffa48",
   "metadata": {},
   "outputs": [],
   "source": []
  }
 ],
 "metadata": {
  "kernelspec": {
   "display_name": "Python 3 (ipykernel)",
   "language": "python",
   "name": "python3"
  },
  "language_info": {
   "codemirror_mode": {
    "name": "ipython",
    "version": 3
   },
   "file_extension": ".py",
   "mimetype": "text/x-python",
   "name": "python",
   "nbconvert_exporter": "python",
   "pygments_lexer": "ipython3",
   "version": "3.8.16"
  }
 },
 "nbformat": 4,
 "nbformat_minor": 5
}

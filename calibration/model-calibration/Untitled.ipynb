{
 "cells": [
  {
   "cell_type": "code",
   "execution_count": 1,
   "id": "3ee5985d-38d0-4865-92b8-42c083a53344",
   "metadata": {},
   "outputs": [],
   "source": [
    "import yfinance as yf\n",
    "\n",
    "\n",
    "def get_option_data_from_yahoo(ticker, maturity_date, option_type=\"call\"):\n",
    "    \"\"\"\n",
    "    Fetches the option data from yahoo finance server.\n",
    "\n",
    "    Input parameters\n",
    "    ----------------\n",
    "    ticker: The stock ticker.\n",
    "    maturity_date: Option's maturity date (YYYY-MM-DD).\n",
    "    option_type: Takes two values, `call` and `put`.\n",
    "\n",
    "    Returns\n",
    "    -------\n",
    "        - option_data\n",
    "            - dtype: pd.DataFrame\n",
    "    \"\"\"\n",
    "    company_data = yf.Ticker(ticker)\n",
    "    expiration_dates = company_data.options\n",
    "    if maturity_date not in expiration_dates:\n",
    "        raise ValueError(f\"Please select the expiration date from {expiration_dates}\")\n",
    "\n",
    "    if option_type not in (\"call\", \"put\"):\n",
    "        raise ValueError(\"Incorrect type of option value\")\n",
    "\n",
    "    option_data = company_data.option_chain(maturity_date)\n",
    "    if option_type == \"call\":\n",
    "        return option_data.calls\n",
    "\n",
    "    return option_data.puts"
   ]
  },
  {
   "cell_type": "code",
   "execution_count": 5,
   "id": "1b5450eb-0ac0-43d3-837a-08441d6816a9",
   "metadata": {},
   "outputs": [
    {
     "ename": "ValueError",
     "evalue": "Please select the expiration date from ()",
     "output_type": "error",
     "traceback": [
      "\u001b[0;31m---------------------------------------------------------------------------\u001b[0m",
      "\u001b[0;31mValueError\u001b[0m                                Traceback (most recent call last)",
      "Cell \u001b[0;32mIn[5], line 2\u001b[0m\n\u001b[1;32m      1\u001b[0m TICKER \u001b[38;5;241m=\u001b[39m \u001b[38;5;124m\"\u001b[39m\u001b[38;5;124mAAPL\u001b[39m\u001b[38;5;124m\"\u001b[39m\n\u001b[0;32m----> 2\u001b[0m data \u001b[38;5;241m=\u001b[39m \u001b[43mget_option_data_from_yahoo\u001b[49m\u001b[43m(\u001b[49m\u001b[43mTICKER\u001b[49m\u001b[43m,\u001b[49m\u001b[43m \u001b[49m\u001b[38;5;124;43m\"\u001b[39;49m\u001b[38;5;124;43m2025-03-21\u001b[39;49m\u001b[38;5;124;43m\"\u001b[39;49m\u001b[43m)\u001b[49m\n",
      "Cell \u001b[0;32mIn[1], line 22\u001b[0m, in \u001b[0;36mget_option_data_from_yahoo\u001b[0;34m(ticker, maturity_date, option_type)\u001b[0m\n\u001b[1;32m     20\u001b[0m expiration_dates \u001b[38;5;241m=\u001b[39m company_data\u001b[38;5;241m.\u001b[39moptions\n\u001b[1;32m     21\u001b[0m \u001b[38;5;28;01mif\u001b[39;00m maturity_date \u001b[38;5;129;01mnot\u001b[39;00m \u001b[38;5;129;01min\u001b[39;00m expiration_dates:\n\u001b[0;32m---> 22\u001b[0m     \u001b[38;5;28;01mraise\u001b[39;00m \u001b[38;5;167;01mValueError\u001b[39;00m(\u001b[38;5;124mf\u001b[39m\u001b[38;5;124m\"\u001b[39m\u001b[38;5;124mPlease select the expiration date from \u001b[39m\u001b[38;5;132;01m{\u001b[39;00mexpiration_dates\u001b[38;5;132;01m}\u001b[39;00m\u001b[38;5;124m\"\u001b[39m)\n\u001b[1;32m     24\u001b[0m \u001b[38;5;28;01mif\u001b[39;00m option_type \u001b[38;5;129;01mnot\u001b[39;00m \u001b[38;5;129;01min\u001b[39;00m (\u001b[38;5;124m\"\u001b[39m\u001b[38;5;124mcall\u001b[39m\u001b[38;5;124m\"\u001b[39m, \u001b[38;5;124m\"\u001b[39m\u001b[38;5;124mput\u001b[39m\u001b[38;5;124m\"\u001b[39m):\n\u001b[1;32m     25\u001b[0m     \u001b[38;5;28;01mraise\u001b[39;00m \u001b[38;5;167;01mValueError\u001b[39;00m(\u001b[38;5;124m\"\u001b[39m\u001b[38;5;124mIncorrect type of option value\u001b[39m\u001b[38;5;124m\"\u001b[39m)\n",
      "\u001b[0;31mValueError\u001b[0m: Please select the expiration date from ()"
     ]
    }
   ],
   "source": [
    "TICKER = \"AAPL\"\n",
    "data = get_option_data_from_yahoo(TICKER, \"2025-03-21\")"
   ]
  },
  {
   "cell_type": "code",
   "execution_count": null,
   "id": "43d34e19-16d2-4f35-9418-83b5d68b8c47",
   "metadata": {},
   "outputs": [],
   "source": [
    "class Stack:\n",
    "    def __init__(self):\n",
    "        self.stack = []"
   ]
  },
  {
   "cell_type": "code",
   "execution_count": null,
   "id": "ce957aff-bc1f-47cf-ac6c-6b24d34d3a6b",
   "metadata": {},
   "outputs": [],
   "source": []
  }
 ],
 "metadata": {
  "kernelspec": {
   "display_name": "Python 3 (ipykernel)",
   "language": "python",
   "name": "python3"
  },
  "language_info": {
   "codemirror_mode": {
    "name": "ipython",
    "version": 3
   },
   "file_extension": ".py",
   "mimetype": "text/x-python",
   "name": "python",
   "nbconvert_exporter": "python",
   "pygments_lexer": "ipython3",
   "version": "3.8.16"
  }
 },
 "nbformat": 4,
 "nbformat_minor": 5
}
